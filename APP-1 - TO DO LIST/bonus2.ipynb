{
 "cells": [
  {
   "cell_type": "code",
   "execution_count": 1,
   "id": "f71446bd",
   "metadata": {},
   "outputs": [
    {
     "name": "stdout",
     "output_type": "stream",
     "text": [
      "Enter password: hey\n",
      "Enter password: duk\n",
      "Login successful\n"
     ]
    }
   ],
   "source": [
    "password=input(\"Enter password: \")\n",
    "while password!='duk':\n",
    "    password=input(\"Enter password: \")\n",
    "print(\"Login successful\")"
   ]
  },
  {
   "cell_type": "markdown",
   "id": "767ad6fb",
   "metadata": {},
   "source": [
    "# tuple"
   ]
  },
  {
   "cell_type": "code",
   "execution_count": 13,
   "id": "0e745f91",
   "metadata": {},
   "outputs": [
    {
     "name": "stdout",
     "output_type": "stream",
     "text": [
      "1-Raw Data.txt\n",
      "2-Reports.txt\n",
      "3-Presentations.txt\n"
     ]
    }
   ],
   "source": [
    "filenames = [\"1.Raw Data.txt\",\"2.Reports.txt\",\"3.Presentations.txt\"]\n",
    "for filename in filenames:\n",
    "    filename=filename.replace('.','-',1) # 1 is for replacing only first occurence\n",
    "    print(filename)"
   ]
  },
  {
   "cell_type": "markdown",
   "id": "aae6f17a",
   "metadata": {},
   "source": [
    "# adding content to respective txt files"
   ]
  },
  {
   "cell_type": "code",
   "execution_count": 15,
   "id": "9429388b",
   "metadata": {},
   "outputs": [],
   "source": [
    "contents=[\"hey hello\",\"come fast\",\"what are\"]\n",
    "filenames = [\"doc.txt\",\"report.txt\",\"presentation.txt\"]\n",
    "\n",
    "for content, filename in zip(contents,filenames):\n",
    "    file=open(f\"files/{filename}\",'w') # can add ../ before files to check one directory up\n",
    "    file.write(content)\n",
    "    "
   ]
  },
  {
   "cell_type": "code",
   "execution_count": null,
   "id": "8c990e35",
   "metadata": {},
   "outputs": [],
   "source": []
  }
 ],
 "metadata": {
  "kernelspec": {
   "display_name": "Python 3.9 (tensorflow)",
   "language": "python",
   "name": "tensorflow"
  },
  "language_info": {
   "codemirror_mode": {
    "name": "ipython",
    "version": 3
   },
   "file_extension": ".py",
   "mimetype": "text/x-python",
   "name": "python",
   "nbconvert_exporter": "python",
   "pygments_lexer": "ipython3",
   "version": "3.9.13"
  }
 },
 "nbformat": 4,
 "nbformat_minor": 5
}
