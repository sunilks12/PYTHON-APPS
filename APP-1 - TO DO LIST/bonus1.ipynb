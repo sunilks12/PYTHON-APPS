{
 "cells": [
  {
   "cell_type": "code",
   "execution_count": 4,
   "id": "f1f3229f",
   "metadata": {},
   "outputs": [
    {
     "name": "stdout",
     "output_type": "stream",
     "text": [
      "Enter a title: hey\n",
      "The lenght of the title is: 3\n"
     ]
    }
   ],
   "source": [
    "text = input(\"Enter a title: \")\n",
    "length = len(text)\n",
    "print(\"The lenght of the title is:\", length)"
   ]
  },
  {
   "cell_type": "code",
   "execution_count": null,
   "id": "4ce4b2ab",
   "metadata": {},
   "outputs": [],
   "source": []
  }
 ],
 "metadata": {
  "kernelspec": {
   "display_name": "Python 3.9 (tensorflow)",
   "language": "python",
   "name": "tensorflow"
  },
  "language_info": {
   "codemirror_mode": {
    "name": "ipython",
    "version": 3
   },
   "file_extension": ".py",
   "mimetype": "text/x-python",
   "name": "python",
   "nbconvert_exporter": "python",
   "pygments_lexer": "ipython3",
   "version": "3.9.13"
  }
 },
 "nbformat": 4,
 "nbformat_minor": 5
}
