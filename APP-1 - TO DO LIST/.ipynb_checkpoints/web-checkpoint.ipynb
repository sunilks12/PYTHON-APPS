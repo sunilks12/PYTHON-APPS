{
 "cells": [
  {
   "cell_type": "code",
   "execution_count": 3,
   "id": "8e67b4c0",
   "metadata": {},
   "outputs": [],
   "source": [
    "import streamlit as st\n",
    "import functions"
   ]
  },
  {
   "cell_type": "code",
   "execution_count": null,
   "id": "74c16021",
   "metadata": {},
   "outputs": [],
   "source": [
    "todos=functions.get_todos()\n",
    "\n",
    "def add_todo():\n",
    "    todo=st.session_state(\"new_todo\") + \"\\n\"\n",
    "    todos.append(todo)\n",
    "    functions.write_todos(todos)\n",
    " "
   ]
  },
  {
   "cell_type": "code",
   "execution_count": null,
   "id": "7256c3f6",
   "metadata": {
    "collapsed": true
   },
   "outputs": [],
   "source": []
  },
  {
   "cell_type": "code",
   "execution_count": 2,
   "id": "36cd6482",
   "metadata": {},
   "outputs": [
    {
     "name": "stderr",
     "output_type": "stream",
     "text": [
      "2023-01-15 00:16:10.586 \n",
      "  \u001b[33m\u001b[1mWarning:\u001b[0m to view this Streamlit app on a browser, run it with the following\n",
      "  command:\n",
      "\n",
      "    streamlit run /Users/sunil/miniforge3/lib/python3.9/site-packages/ipykernel_launcher.py [ARGUMENTS]\n"
     ]
    },
    {
     "data": {
      "text/plain": [
       "False"
      ]
     },
     "execution_count": 2,
     "metadata": {},
     "output_type": "execute_result"
    }
   ],
   "source": [
    "st.title(\"Welcome todo app\")\n",
    "st.subheader(\"This is my todo app\")\n",
    "st.write(\"HEY THIS IS MY\")\n"
   ]
  },
  {
   "cell_type": "code",
   "execution_count": null,
   "id": "0b14552e",
   "metadata": {},
   "outputs": [],
   "source": [
    "for index,todo in enumerate(todos):\n",
    "    checkbox=st.checkbox(todo,key='todo')\n",
    "    \n",
    "    if checkbox:\n",
    "        todos.pop(index)\n",
    "        functions.write_todos(todos)\n",
    "        del st.session_state[todo]\n",
    "        st.experimental_rerun()"
   ]
  },
  {
   "cell_type": "code",
   "execution_count": null,
   "id": "becb255d",
   "metadata": {},
   "outputs": [],
   "source": [
    "st.text_input(label='',placeholder='add a new todo..',on_change=add_todo, key='new_todo'))"
   ]
  }
 ],
 "metadata": {
  "kernelspec": {
   "display_name": "Python 3.9 (tensorflow)",
   "language": "python",
   "name": "tensorflow"
  },
  "language_info": {
   "codemirror_mode": {
    "name": "ipython",
    "version": 3
   },
   "file_extension": ".py",
   "mimetype": "text/x-python",
   "name": "python",
   "nbconvert_exporter": "python",
   "pygments_lexer": "ipython3",
   "version": "3.9.13"
  }
 },
 "nbformat": 4,
 "nbformat_minor": 5
}
