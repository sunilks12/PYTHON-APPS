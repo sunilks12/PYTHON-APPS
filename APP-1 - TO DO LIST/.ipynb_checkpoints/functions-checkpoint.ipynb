{
 "cells": [
  {
   "cell_type": "code",
   "execution_count": 2,
   "id": "6d0c940b",
   "metadata": {},
   "outputs": [
    {
     "name": "stdout",
     "output_type": "stream",
     "text": [
      "hello\n",
      "<function get_todos at 0x10629ce50>\n"
     ]
    }
   ],
   "source": [
    "FILEPATH='todos.txt'\n",
    "\n",
    "def get_todos(filepath=FILEPATH):\n",
    "    with open(filepath,'r') as file_local:\n",
    "        todos_local=file_local .readlines()\n",
    "    return todos_local\n",
    "\n",
    "def write_todos(todos_arg,filepath=FILEPATH):\n",
    "    with open(filepath,'w') as file:\n",
    "        file.writelines(todos_arg)\n",
    "\n",
    "\n",
    "\n",
    "if __name__== \"__main__\":\n",
    "    print(\"hello\")\n",
    "    print(get_todos)"
   ]
  },
  {
   "cell_type": "code",
   "execution_count": null,
   "id": "ecb1963f",
   "metadata": {},
   "outputs": [],
   "source": []
  }
 ],
 "metadata": {
  "kernelspec": {
   "display_name": "Python 3.9 (tensorflow)",
   "language": "python",
   "name": "tensorflow"
  },
  "language_info": {
   "codemirror_mode": {
    "name": "ipython",
    "version": 3
   },
   "file_extension": ".py",
   "mimetype": "text/x-python",
   "name": "python",
   "nbconvert_exporter": "python",
   "pygments_lexer": "ipython3",
   "version": "3.9.13"
  }
 },
 "nbformat": 4,
 "nbformat_minor": 5
}
