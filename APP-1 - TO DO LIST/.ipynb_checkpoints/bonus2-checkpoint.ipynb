{
 "cells": [
  {
   "cell_type": "code",
   "execution_count": 1,
   "id": "85b6aadb",
   "metadata": {},
   "outputs": [
    {
     "name": "stdout",
     "output_type": "stream",
     "text": [
      "Enter password: hey\n",
      "Enter password: duk\n",
      "Login successful\n"
     ]
    }
   ],
   "source": [
    "password=input(\"Enter password: \")\n",
    "while password!='duk':\n",
    "    password=input(\"Enter password: \")\n",
    "print(\"Login successful\")"
   ]
  },
  {
   "cell_type": "code",
   "execution_count": null,
   "id": "f7014e35",
   "metadata": {},
   "outputs": [],
   "source": []
  }
 ],
 "metadata": {
  "kernelspec": {
   "display_name": "Python 3.9 (tensorflow)",
   "language": "python",
   "name": "tensorflow"
  },
  "language_info": {
   "codemirror_mode": {
    "name": "ipython",
    "version": 3
   },
   "file_extension": ".py",
   "mimetype": "text/x-python",
   "name": "python",
   "nbconvert_exporter": "python",
   "pygments_lexer": "ipython3",
   "version": "3.9.13"
  }
 },
 "nbformat": 4,
 "nbformat_minor": 5
}
