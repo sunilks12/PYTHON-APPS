{
 "cells": [
  {
   "cell_type": "code",
   "execution_count": null,
   "id": "a49fc8ff",
   "metadata": {},
   "outputs": [],
   "source": [
    "import streamlit as st\n",
    "import functions"
   ]
  },
  {
   "cell_type": "code",
   "execution_count": null,
   "id": "7805ff88",
   "metadata": {},
   "outputs": [],
   "source": [
    "todos=functions.get_todos()\n",
    "\n",
    "def add_todo():\n",
    "    todo=st.session_state(\"new_todo\") + \"\\n\"\n",
    "    todos.append(todo)\n",
    "    functions.write_todos(todos)\n",
    " "
   ]
  },
  {
   "cell_type": "code",
   "execution_count": null,
   "id": "ce673107",
   "metadata": {},
   "outputs": [],
   "source": [
    "streamlit run web.py"
   ]
  },
  {
   "cell_type": "code",
   "execution_count": null,
   "id": "dc167f66",
   "metadata": {},
   "outputs": [],
   "source": [
    "st.title(\"Welcome todo app\")\n",
    "st.subheader(\"This is my todo app\")\n",
    "st.write(\"HEY THIS IS MY\")\n"
   ]
  },
  {
   "cell_type": "code",
   "execution_count": null,
   "id": "4a84d0b3",
   "metadata": {},
   "outputs": [],
   "source": [
    "for index,todo in enumerate(todos):\n",
    "    checkbox=st.checkbox(todo,key='todo')\n",
    "    \n",
    "    if checkbox:\n",
    "        todos.pop(index)\n",
    "        functions.write_todos(todos)\n",
    "        del st.session_state[todo]\n",
    "        st.experimental_rerun()"
   ]
  },
  {
   "cell_type": "code",
   "execution_count": null,
   "id": "e810bfdf",
   "metadata": {},
   "outputs": [],
   "source": [
    "st.text_input(label='',placeholder='add a new todo..',on_change=add_todo, key='new_todo'))"
   ]
  },
  {
   "cell_type": "code",
   "execution_count": null,
   "id": "5ecc80d7",
   "metadata": {},
   "outputs": [],
   "source": []
  },
  {
   "cell_type": "code",
   "execution_count": null,
   "id": "46499a06",
   "metadata": {},
   "outputs": [],
   "source": [
    "pip freeze > requirements.txt"
   ]
  },
  {
   "cell_type": "code",
   "execution_count": null,
   "id": "321d1df3",
   "metadata": {},
   "outputs": [],
   "source": []
  },
  {
   "cell_type": "code",
   "execution_count": 1,
   "id": "f550d953",
   "metadata": {},
   "outputs": [
    {
     "name": "stderr",
     "output_type": "stream",
     "text": [
      "2023-01-15 23:41:53.365 \n",
      "  \u001b[33m\u001b[1mWarning:\u001b[0m to view this Streamlit app on a browser, run it with the following\n",
      "  command:\n",
      "\n",
      "    streamlit run /Users/sunil/miniforge3/lib/python3.9/site-packages/ipykernel_launcher.py [ARGUMENTS]\n",
      "2023-01-15 23:41:53.366 `label` got an empty value. This is discouraged for accessibility reasons and may be disallowed in the future by raising an exception. Please provide a non-empty label and hide it with label_visibility if needed.\n"
     ]
    },
    {
     "data": {
      "text/plain": [
       "''"
      ]
     },
     "execution_count": 1,
     "metadata": {},
     "output_type": "execute_result"
    }
   ],
   "source": [
    "import streamlit as st\n",
    "import functions\n",
    "\n",
    "todos=functions.get_todos()\n",
    "\n",
    "def add_todo():\n",
    "    todo=st.session_state(\"new_todo\") + \"\\n\"\n",
    "    todos.append(todo)\n",
    "    functions.write_todos(todos)\n",
    "\n",
    "st.title(\"Welcome todo app\")\n",
    "st.subheader(\"This is my todo app\")\n",
    "st.write(\"HEY THIS IS MY\")\n",
    "\n",
    "\n",
    "for index,todo in enumerate(todos):\n",
    "    checkbox=st.checkbox(todo,key='todo')\n",
    "    \n",
    "    if checkbox:\n",
    "        todos.pop(index)\n",
    "        functions.write_todos(todos)\n",
    "        del st.session_state[todo]\n",
    "        st.experimental_rerun()\n",
    "\n",
    "st.text_input(label='',placeholder='add a new todo..',on_change=add_todo, key='new_todo')\n",
    "\n",
    "\n",
    "\n",
    "#pip freeze > requirements.txt"
   ]
  },
  {
   "cell_type": "code",
   "execution_count": 4,
   "id": "7ade3488",
   "metadata": {},
   "outputs": [
    {
     "ename": "SyntaxError",
     "evalue": "invalid syntax (428743224.py, line 1)",
     "output_type": "error",
     "traceback": [
      "\u001b[0;36m  Input \u001b[0;32mIn [4]\u001b[0;36m\u001b[0m\n\u001b[0;31m    streamlit run /Users/sunil/miniforge3/lib/python3.9/site-packages/ipykernel_launcher.py\u001b[0m\n\u001b[0m              ^\u001b[0m\n\u001b[0;31mSyntaxError\u001b[0m\u001b[0;31m:\u001b[0m invalid syntax\n"
     ]
    }
   ],
   "source": []
  },
  {
   "cell_type": "code",
   "execution_count": null,
   "id": "0db24696",
   "metadata": {},
   "outputs": [],
   "source": []
  }
 ],
 "metadata": {
  "kernelspec": {
   "display_name": "Python 3.9 (tensorflow)",
   "language": "python",
   "name": "tensorflow"
  },
  "language_info": {
   "codemirror_mode": {
    "name": "ipython",
    "version": 3
   },
   "file_extension": ".py",
   "mimetype": "text/x-python",
   "name": "python",
   "nbconvert_exporter": "python",
   "pygments_lexer": "ipython3",
   "version": "3.9.13"
  }
 },
 "nbformat": 4,
 "nbformat_minor": 5
}
