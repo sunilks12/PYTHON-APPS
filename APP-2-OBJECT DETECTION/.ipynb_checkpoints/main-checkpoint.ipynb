{
 "cells": [
  {
   "cell_type": "code",
   "execution_count": 16,
   "id": "a69c91c3",
   "metadata": {},
   "outputs": [],
   "source": [
    "import cv2\n",
    "import time\n",
    "import glob\n",
    "import os\n",
    "from threading import Thread\n",
    "from emailing import send_email"
   ]
  },
  {
   "cell_type": "code",
   "execution_count": 21,
   "id": "0d7e1ada",
   "metadata": {},
   "outputs": [],
   "source": [
    "video=cv2.VideoCapture(0)\n",
    "time.sleep(1)\n",
    "first_frame=None\n",
    "status_list=[]\n",
    "count=1"
   ]
  },
  {
   "cell_type": "code",
   "execution_count": 22,
   "id": "71737062",
   "metadata": {},
   "outputs": [
    {
     "ename": "NameError",
     "evalue": "name 'send_email' is not defined",
     "output_type": "error",
     "traceback": [
      "\u001b[0;31m---------------------------------------------------------------------------\u001b[0m",
      "\u001b[0;31mNameError\u001b[0m                                 Traceback (most recent call last)",
      "Input \u001b[0;32mIn [22]\u001b[0m, in \u001b[0;36m<cell line: 9>\u001b[0;34m()\u001b[0m\n\u001b[1;32m     42\u001b[0m status_list\u001b[38;5;241m=\u001b[39mstatus_list[\u001b[38;5;241m-\u001b[39m\u001b[38;5;241m2\u001b[39m:] \u001b[38;5;66;03m# get only the last two objects of the array\u001b[39;00m\n\u001b[1;32m     44\u001b[0m \u001b[38;5;28;01mif\u001b[39;00m status_list[\u001b[38;5;241m0\u001b[39m]\u001b[38;5;241m==\u001b[39m\u001b[38;5;241m1\u001b[39m \u001b[38;5;129;01mand\u001b[39;00m status_list[\u001b[38;5;241m1\u001b[39m]\u001b[38;5;241m==\u001b[39m\u001b[38;5;241m0\u001b[39m: \u001b[38;5;66;03m# just exited the frame \u001b[39;00m\n\u001b[0;32m---> 45\u001b[0m     email_thread\u001b[38;5;241m=\u001b[39mThread(target\u001b[38;5;241m=\u001b[39m\u001b[43msend_email\u001b[49m,args\u001b[38;5;241m=\u001b[39m(image_with_object, ))\n\u001b[1;32m     46\u001b[0m     \u001b[38;5;66;03m#send_email(image_with_object) we dont need this since using thread\u001b[39;00m\n\u001b[1;32m     47\u001b[0m     email_thread\u001b[38;5;241m.\u001b[39mdaemon\u001b[38;5;241m=\u001b[39m\u001b[38;5;28;01mTrue\u001b[39;00m\n",
      "\u001b[0;31mNameError\u001b[0m: name 'send_email' is not defined"
     ]
    }
   ],
   "source": [
    "def clean_folder():\n",
    "    images=glob.glob('images/*.png')\n",
    "    for image in images:\n",
    "    \tos.remove(image)\n",
    "\n",
    "\n",
    "while True:\n",
    "\n",
    "    status=0 # to capture the static and movment later in rectangle ,capture after new object exits the frame\n",
    "    check, frame=video.read()\n",
    "  \n",
    "    gray_frame=cv2.cvtColor(frame,cv2.COLOR_BGR2GRAY)\n",
    "    gray_frame_gau=cv2.GaussianBlur(gray_frame,(21,21),0) # to reduce the noise\n",
    "    \n",
    "    # each frame will be compared to first frame in order to detect the movement\n",
    "    if first_frame is None:\n",
    "        first_frame=gray_frame_gau\n",
    "        \n",
    "    delta_frame=cv2.absdiff(first_frame,gray_frame_gau)\n",
    " \n",
    "    \n",
    "    thresh_frame=cv2.threshold(delta_frame,60, 255,cv2.THRESH_BINARY)[1] # 255 is white and we are considering pixel value >60 and assign it to 255\n",
    "    dil_frame=cv2.dilate(thresh_frame, None, iterations=2) # deletes the noise and then we have to create the contours\n",
    "    cv2.imshow(\"My video\",thresh_frame)\n",
    "    \n",
    "    contours, check = cv2.findContours(dil_frame,cv2.RETR_EXTERNAL,cv2.CHAIN_APPROX_SIMPLE) # TO DETECT THE NEW OBJECT\n",
    "    \n",
    "    for contour in contours:\n",
    "        if cv2.contourArea(contour)<5000: # to check fake object\n",
    "            continue\n",
    "        x,y,w,h = cv2.boundingRect(contour)\n",
    "        rectangle=cv2.rectangle(frame,(x,y),(x+w,y+h),(0,255,0),3)\n",
    "        if rectangle.any():\n",
    "            status=1\n",
    "            cv2.imwrite(f\"images/{count}.png\",frame)\n",
    "            count=count+1\n",
    "            all_images=glob.glob(\"images/*.png\")\n",
    "            index=int(len(all_images)/2)\n",
    "            image_with_object=all_images[index]\n",
    "           \n",
    "    status_list.append(status)   \n",
    "    status_list=status_list[-2:] # get only the last two objects of the array\n",
    "    \n",
    "    if status_list[0]==1 and status_list[1]==0: # just exited the frame \n",
    "        email_thread=Thread(target=send_email,args=(image_with_object, ))\n",
    "        #send_email(image_with_object) we dont need this since using thread\n",
    "        email_thread.daemon=True\n",
    "        clean_thread=Thread(target=clean_folder)\n",
    "        #send_email(image_with_object) we dont need this since using thread\n",
    "        clean_thread.daemon=True\n",
    "        #clean_folder()\n",
    "        \n",
    "        email_thread.start()\n",
    "      \n",
    "    \n",
    "\n",
    "    cv2.imshow(\"video\",frame)\n",
    "    key=cv2.waitKey(1)\n",
    "    \n",
    "    if key==ord(\"q\"):\n",
    "        break\n",
    "video.release()  \n",
    "clean_thread.start()"
   ]
  },
  {
   "cell_type": "code",
   "execution_count": null,
   "id": "b982e324",
   "metadata": {},
   "outputs": [],
   "source": []
  },
  {
   "cell_type": "code",
   "execution_count": 13,
   "id": "74fd552d",
   "metadata": {},
   "outputs": [
    {
     "name": "stderr",
     "output_type": "stream",
     "text": [
      "2023-02-01 20:15:33.230 \n",
      "  \u001b[33m\u001b[1mWarning:\u001b[0m to view this Streamlit app on a browser, run it with the following\n",
      "  command:\n",
      "\n",
      "    streamlit run /Users/sunil/miniforge3/lib/python3.9/site-packages/ipykernel_launcher.py [ARGUMENTS]\n"
     ]
    }
   ],
   "source": [
    "import cv2\n",
    "import streamlit as st\n",
    "from datetime import datetime\n",
    "\n",
    "st.title(\"Motion Detector\")\n",
    "start = st.button('Start Camera')\n",
    "\n",
    "if start:\n",
    "    streamlit_image = st.image([])\n",
    "    camera = cv2.VideoCapture(0)\n",
    "\n",
    "    while True:\n",
    "        check, frame = camera.read()\n",
    "        frame = cv2.cvtColor(frame, cv2.COLOR_BGR2RGB)\n",
    "\n",
    "        # Get current time as a datetime object\n",
    "        now = datetime.now()\n",
    "\n",
    "        # Get day and time add them to the frame\n",
    "        cv2.putText(img=frame, text=now.strftime(\"%A\"), org=(30, 80),\n",
    "                    fontFace=cv2.FONT_HERSHEY_PLAIN, fontScale=3, color=(255, 255, 255),\n",
    "                    thickness=2, lineType=cv2.LINE_AA)\n",
    "        cv2.putText(img=frame, text=now.strftime(\"%H:%M:%S\"), org=(30, 140),\n",
    "                    fontFace=cv2.FONT_HERSHEY_PLAIN, fontScale=3, color=(255, 0, 0),\n",
    "                    thickness=2, lineType=cv2.LINE_AA)\n",
    "        streamlit_image.image(frame)"
   ]
  },
  {
   "cell_type": "code",
   "execution_count": null,
   "id": "47c3493c",
   "metadata": {},
   "outputs": [],
   "source": []
  }
 ],
 "metadata": {
  "kernelspec": {
   "display_name": "Python 3.9 (tensorflow)",
   "language": "python",
   "name": "tensorflow"
  },
  "language_info": {
   "codemirror_mode": {
    "name": "ipython",
    "version": 3
   },
   "file_extension": ".py",
   "mimetype": "text/x-python",
   "name": "python",
   "nbconvert_exporter": "python",
   "pygments_lexer": "ipython3",
   "version": "3.9.13"
  }
 },
 "nbformat": 4,
 "nbformat_minor": 5
}
